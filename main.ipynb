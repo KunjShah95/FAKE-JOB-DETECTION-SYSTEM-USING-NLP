{
 "cells": [
  {
   "cell_type": "code",
   "execution_count": 1,
   "metadata": {},
   "outputs": [
    {
     "name": "stdout",
     "output_type": "stream",
     "text": [
      "Requirement already satisfied: numpy in c:\\users\\kunj\\appdata\\roaming\\python\\python313\\site-packages (2.2.0)\n",
      "Requirement already satisfied: pandas in c:\\users\\kunj\\appdata\\roaming\\python\\python313\\site-packages (2.2.3)\n",
      "Requirement already satisfied: scikit-learn in c:\\users\\kunj\\appdata\\roaming\\python\\python313\\site-packages (1.6.0)\n",
      "Requirement already satisfied: matplotlib in c:\\users\\kunj\\appdata\\roaming\\python\\python313\\site-packages (3.9.3)\n",
      "Requirement already satisfied: seaborn in c:\\users\\kunj\\appdata\\roaming\\python\\python313\\site-packages (0.13.2)\n",
      "Requirement already satisfied: nltk in c:\\users\\kunj\\appdata\\roaming\\python\\python313\\site-packages (3.9.1)\n",
      "Requirement already satisfied: python-dateutil>=2.8.2 in c:\\users\\kunj\\appdata\\roaming\\python\\python313\\site-packages (from pandas) (2.9.0.post0)\n",
      "Requirement already satisfied: pytz>=2020.1 in c:\\users\\kunj\\appdata\\roaming\\python\\python313\\site-packages (from pandas) (2024.2)\n",
      "Requirement already satisfied: tzdata>=2022.7 in c:\\users\\kunj\\appdata\\roaming\\python\\python313\\site-packages (from pandas) (2024.2)\n",
      "Requirement already satisfied: scipy>=1.6.0 in c:\\users\\kunj\\appdata\\roaming\\python\\python313\\site-packages (from scikit-learn) (1.14.1)\n",
      "Requirement already satisfied: joblib>=1.2.0 in c:\\users\\kunj\\appdata\\roaming\\python\\python313\\site-packages (from scikit-learn) (1.4.2)\n",
      "Requirement already satisfied: threadpoolctl>=3.1.0 in c:\\users\\kunj\\appdata\\roaming\\python\\python313\\site-packages (from scikit-learn) (3.5.0)\n",
      "Requirement already satisfied: contourpy>=1.0.1 in c:\\users\\kunj\\appdata\\roaming\\python\\python313\\site-packages (from matplotlib) (1.3.1)\n",
      "Requirement already satisfied: cycler>=0.10 in c:\\users\\kunj\\appdata\\roaming\\python\\python313\\site-packages (from matplotlib) (0.12.1)\n",
      "Requirement already satisfied: fonttools>=4.22.0 in c:\\users\\kunj\\appdata\\roaming\\python\\python313\\site-packages (from matplotlib) (4.55.3)\n",
      "Requirement already satisfied: kiwisolver>=1.3.1 in c:\\users\\kunj\\appdata\\roaming\\python\\python313\\site-packages (from matplotlib) (1.4.7)\n",
      "Requirement already satisfied: packaging>=20.0 in c:\\users\\kunj\\appdata\\roaming\\python\\python313\\site-packages (from matplotlib) (24.2)\n",
      "Requirement already satisfied: pillow>=8 in c:\\users\\kunj\\appdata\\roaming\\python\\python313\\site-packages (from matplotlib) (11.0.0)\n",
      "Requirement already satisfied: pyparsing>=2.3.1 in c:\\users\\kunj\\appdata\\roaming\\python\\python313\\site-packages (from matplotlib) (3.2.0)\n",
      "Requirement already satisfied: click in c:\\users\\kunj\\appdata\\roaming\\python\\python313\\site-packages (from nltk) (8.1.7)\n",
      "Requirement already satisfied: regex>=2021.8.3 in c:\\users\\kunj\\appdata\\roaming\\python\\python313\\site-packages (from nltk) (2024.11.6)\n",
      "Requirement already satisfied: tqdm in c:\\users\\kunj\\appdata\\roaming\\python\\python313\\site-packages (from nltk) (4.67.1)\n",
      "Requirement already satisfied: six>=1.5 in c:\\users\\kunj\\appdata\\roaming\\python\\python313\\site-packages (from python-dateutil>=2.8.2->pandas) (1.17.0)\n",
      "Requirement already satisfied: colorama in c:\\users\\kunj\\appdata\\roaming\\python\\python313\\site-packages (from click->nltk) (0.4.6)\n",
      "Note: you may need to restart the kernel to use updated packages.\n"
     ]
    }
   ],
   "source": [
    "%pip install numpy pandas scikit-learn matplotlib seaborn nltk\n",
    "\n",
    "import pandas as pd\n",
    "import numpy as np\n",
    "import re\n",
    "from sklearn.feature_extraction.text import TfidfVectorizer\n",
    "from sklearn.model_selection import train_test_split\n",
    "from sklearn.ensemble import RandomForestClassifier\n",
    "from sklearn.metrics import classification_report, accuracy_score\n",
    "import pickle\n",
    "import matplotlib.pyplot as plt\n",
    "import seaborn as sns\n",
    "from nltk.corpus import stopwords\n",
    "from nltk.tokenize import word_tokenize\n"
   ]
  },
  {
   "cell_type": "code",
   "execution_count": null,
   "metadata": {},
   "outputs": [],
   "source": []
  },
  {
   "cell_type": "code",
   "execution_count": 2,
   "metadata": {},
   "outputs": [
    {
     "name": "stderr",
     "output_type": "stream",
     "text": [
      "[nltk_data] Downloading package stopwords to\n",
      "[nltk_data]     C:\\Users\\KUNJ\\AppData\\Roaming\\nltk_data...\n",
      "[nltk_data]   Package stopwords is already up-to-date!\n",
      "[nltk_data] Downloading package punkt to\n",
      "[nltk_data]     C:\\Users\\KUNJ\\AppData\\Roaming\\nltk_data...\n",
      "[nltk_data]   Package punkt is already up-to-date!\n"
     ]
    },
    {
     "data": {
      "text/plain": [
       "True"
      ]
     },
     "execution_count": 2,
     "metadata": {},
     "output_type": "execute_result"
    }
   ],
   "source": [
    "import nltk\n",
    "nltk.download('stopwords')\n",
    "nltk.download('punkt')"
   ]
  },
  {
   "cell_type": "code",
   "execution_count": 3,
   "metadata": {},
   "outputs": [
    {
     "name": "stdout",
     "output_type": "stream",
     "text": [
      "Dataset Structure:\n",
      "    job_id                                      title            location  \\\n",
      "0       1                           Marketing Intern    US, NY, New York   \n",
      "1       2  Customer Service - Cloud Video Production      NZ, , Auckland   \n",
      "2       3    Commissioning Machinery Assistant (CMA)       US, IA, Wever   \n",
      "3       4          Account Executive - Washington DC  US, DC, Washington   \n",
      "4       5                        Bill Review Manager  US, FL, Fort Worth   \n",
      "\n",
      "  department salary_range                                    company_profile  \\\n",
      "0  Marketing          NaN  We're Food52, and we've created a groundbreaki...   \n",
      "1    Success          NaN  90 Seconds, the worlds Cloud Video Production ...   \n",
      "2        NaN          NaN  Valor Services provides Workforce Solutions th...   \n",
      "3      Sales          NaN  Our passion for improving quality of life thro...   \n",
      "4        NaN          NaN  SpotSource Solutions LLC is a Global Human Cap...   \n",
      "\n",
      "                                         description  \\\n",
      "0  Food52, a fast-growing, James Beard Award-winn...   \n",
      "1  Organised - Focused - Vibrant - Awesome!Do you...   \n",
      "2  Our client, located in Houston, is actively se...   \n",
      "3  THE COMPANY: ESRI – Environmental Systems Rese...   \n",
      "4  JOB TITLE: Itemization Review ManagerLOCATION:...   \n",
      "\n",
      "                                        requirements  \\\n",
      "0  Experience with content management systems a m...   \n",
      "1  What we expect from you:Your key responsibilit...   \n",
      "2  Implement pre-commissioning and commissioning ...   \n",
      "3  EDUCATION: Bachelor’s or Master’s in GIS, busi...   \n",
      "4  QUALIFICATIONS:RN license in the State of Texa...   \n",
      "\n",
      "                                            benefits  telecommuting  \\\n",
      "0                                                NaN              0   \n",
      "1  What you will get from usThrough being part of...              0   \n",
      "2                                                NaN              0   \n",
      "3  Our culture is anything but corporate—we have ...              0   \n",
      "4                              Full Benefits Offered              0   \n",
      "\n",
      "   has_company_logo  has_questions employment_type required_experience  \\\n",
      "0                 1              0           Other          Internship   \n",
      "1                 1              0       Full-time      Not Applicable   \n",
      "2                 1              0             NaN                 NaN   \n",
      "3                 1              0       Full-time    Mid-Senior level   \n",
      "4                 1              1       Full-time    Mid-Senior level   \n",
      "\n",
      "  required_education                   industry              function  \\\n",
      "0                NaN                        NaN             Marketing   \n",
      "1                NaN  Marketing and Advertising      Customer Service   \n",
      "2                NaN                        NaN                   NaN   \n",
      "3  Bachelor's Degree          Computer Software                 Sales   \n",
      "4  Bachelor's Degree     Hospital & Health Care  Health Care Provider   \n",
      "\n",
      "   fraudulent  \n",
      "0           0  \n",
      "1           0  \n",
      "2           0  \n",
      "3           0  \n",
      "4           0  \n",
      "\n",
      "Dataset Info:\n",
      "\n",
      "<class 'pandas.core.frame.DataFrame'>\n",
      "RangeIndex: 17880 entries, 0 to 17879\n",
      "Data columns (total 18 columns):\n",
      " #   Column               Non-Null Count  Dtype \n",
      "---  ------               --------------  ----- \n",
      " 0   job_id               17880 non-null  int64 \n",
      " 1   title                17880 non-null  object\n",
      " 2   location             17534 non-null  object\n",
      " 3   department           6333 non-null   object\n",
      " 4   salary_range         2868 non-null   object\n",
      " 5   company_profile      14572 non-null  object\n",
      " 6   description          17879 non-null  object\n",
      " 7   requirements         15184 non-null  object\n",
      " 8   benefits             10668 non-null  object\n",
      " 9   telecommuting        17880 non-null  int64 \n",
      " 10  has_company_logo     17880 non-null  int64 \n",
      " 11  has_questions        17880 non-null  int64 \n",
      " 12  employment_type      14409 non-null  object\n",
      " 13  required_experience  10830 non-null  object\n",
      " 14  required_education   9775 non-null   object\n",
      " 15  industry             12977 non-null  object\n",
      " 16  function             11425 non-null  object\n",
      " 17  fraudulent           17880 non-null  int64 \n",
      "dtypes: int64(5), object(13)\n",
      "memory usage: 2.5+ MB\n"
     ]
    }
   ],
   "source": [
    "df = pd.read_csv('D:/PROJECTS/AIML/FAKE JOB DETECTION SYSTEM/fake_job_postings.csv')\n",
    "print(\"Dataset Structure:\\n\", df.head())\n",
    "print(\"\\nDataset Info:\\n\")\n",
    "df.info()"
   ]
  },
  {
   "cell_type": "code",
   "execution_count": 4,
   "metadata": {},
   "outputs": [],
   "source": [
    "def preprocess_text(text):\n",
    "    # Remove HTML tags\n",
    "    text = re.sub(r'<.*?>', '', text)\n",
    "    # Remove special characters and numbers\n",
    "    text = re.sub(r'[^\\w\\s]', '', text)\n",
    "    text = re.sub(r'\\d+', '', text)\n",
    "    # Tokenize and remove stopwords\n",
    "    tokens = word_tokenize(text.lower())\n",
    "    stop_words = set(stopwords.words('english'))\n",
    "    text = \" \".join([word for word in tokens if word not in stop_words])\n",
    "    return text\n",
    "\n",
    "# Combine 'title' and 'description' columns for analysis\n",
    "df['text'] = df['title'].fillna('') + \" \" + df['description'].fillna('')\n",
    "df['text'] = df['text'].apply(preprocess_text)\n",
    "\n",
    "# Ensure 'label' column exists before dropping rows with missing labels or text\n",
    "if 'label' in df.columns:\n",
    "    df = df.dropna(subset=['text', 'label'])\n",
    "else:\n",
    "    df = df.dropna(subset=['text'])\n"
   ]
  },
  {
   "cell_type": "code",
   "execution_count": 5,
   "metadata": {},
   "outputs": [
    {
     "data": {
      "image/png": "[encoded data removed]",
      "text/plain": [
       "<Figure size 600x400 with 1 Axes>"
      ]
     },
     "metadata": {},
     "output_type": "display_data"
    }
   ],
   "source": [
    "# Rename 'fraudulent' column to 'label'\n",
    "df.rename(columns={'fraudulent': 'label'}, inplace=True)\n",
    "\n",
    "plt.figure(figsize=(6, 4))\n",
    "sns.countplot(x='label', data=df)\n",
    "plt.title(\"Distribution of Fake vs. Real Job Postings\")\n",
    "plt.xlabel(\"Label (0 = Real, 1 = Fake)\")\n",
    "plt.ylabel(\"Count\")\n",
    "plt.show()"
   ]
  },
  {
   "cell_type": "code",
   "execution_count": 6,
   "metadata": {},
   "outputs": [
    {
     "data": {
      "image/png": "[encoded data removed]",
      "text/plain": [
       "<Figure size 600x400 with 1 Axes>"
      ]
     },
     "metadata": {},
     "output_type": "display_data"
    }
   ],
   "source": [
    "df['text_length'] = df['text'].apply(len)\n",
    "plt.figure(figsize=(6, 4))\n",
    "sns.histplot(data=df, x='text_length', hue='label', bins=30, kde=True)\n",
    "plt.title(\"Text Length Distribution by Label\")\n",
    "plt.xlabel(\"Text Length\")\n",
    "plt.ylabel(\"Frequency\")\n",
    "plt.show()"
   ]
  },
  {
   "cell_type": "code",
   "execution_count": 7,
   "metadata": {},
   "outputs": [],
   "source": [
    "tfidf = TfidfVectorizer(max_features=5000)  # Limit to top 5000 features\n",
    "X = tfidf.fit_transform(df['text']).toarray()\n",
    "y = df['label']  # Target variable\n",
    "\n",
    "# Save the TF-IDF vectorizer for future use\n",
    "with open('tfidf_vectorizer.pkl', 'wb') as f:\n",
    "    pickle.dump(tfidf, f)\n"
   ]
  },
  {
   "cell_type": "code",
   "execution_count": 8,
   "metadata": {},
   "outputs": [],
   "source": [
    "X_train, X_test, y_train, y_test = train_test_split(X, y, test_size=0.2, random_state=42)\n"
   ]
  },
  {
   "cell_type": "code",
   "execution_count": 9,
   "metadata": {},
   "outputs": [],
   "source": [
    "model = RandomForestClassifier(random_state=42, n_estimators=100)\n",
    "model.fit(X_train, y_train)\n",
    "\n",
    "# Save the trained model for deployment\n",
    "with open('fake_job_detection_model.pkl', 'wb') as f:\n",
    "    pickle.dump(model, f)"
   ]
  },
  {
   "cell_type": "code",
   "execution_count": 10,
   "metadata": {},
   "outputs": [
    {
     "name": "stdout",
     "output_type": "stream",
     "text": [
      "\n",
      "Accuracy: 0.9773489932885906\n",
      "\n",
      "Classification Report:\n",
      "               precision    recall  f1-score   support\n",
      "\n",
      "           0       0.98      1.00      0.99      3395\n",
      "           1       0.99      0.56      0.71       181\n",
      "\n",
      "    accuracy                           0.98      3576\n",
      "   macro avg       0.98      0.78      0.85      3576\n",
      "weighted avg       0.98      0.98      0.97      3576\n",
      "\n"
     ]
    }
   ],
   "source": [
    "y_pred = model.predict(X_test)\n",
    "print(\"\\nAccuracy:\", accuracy_score(y_test, y_pred))\n",
    "print(\"\\nClassification Report:\\n\", classification_report(y_test, y_pred))\n"
   ]
  },
  {
   "cell_type": "code",
   "execution_count": 11,
   "metadata": {},
   "outputs": [],
   "source": [
    "def predict_job_posting(title, description):\n",
    "    \"\"\"\n",
    "    Predict whether a job posting is fake or real.\n",
    "    \"\"\"\n",
    "    text = preprocess_text(title + \" \" + description)\n",
    "    text_vector = tfidf.transform([text]).toarray()\n",
    "    prediction = model.predict(text_vector)\n",
    "    return \"Fake\" if prediction[0] == 1 else \"Real\""
   ]
  },
  {
   "cell_type": "code",
   "execution_count": 12,
   "metadata": {},
   "outputs": [
    {
     "name": "stdout",
     "output_type": "stream",
     "text": [
      "\n",
      "Prediction for the sample job posting: Real\n"
     ]
    }
   ],
   "source": [
    "# Example Prediction\n",
    "sample_title = \"Immediate Hire: Data Entry\"\n",
    "sample_description = \"No experience required. Earn money quickly by working remotely.\"\n",
    "print(\"\\nPrediction for the sample job posting:\", predict_job_posting(sample_title, sample_description))"
   ]
  },
  {
   "cell_type": "code",
   "execution_count": null,
   "metadata": {},
   "outputs": [],
   "source": []
  }
 ],
 "metadata": {
  "kernelspec": {
   "display_name": "Python 3",
   "language": "python",
   "name": "python3"
  },
  "language_info": {
   "codemirror_mode": {
    "name": "ipython",
    "version": 3
   },
   "file_extension": ".py",
   "mimetype": "text/x-python",
   "name": "python",
   "nbconvert_exporter": "python",
   "pygments_lexer": "ipython3",
   "version": "3.13.0"
  }
 },
 "nbformat": 4,
 "nbformat_minor": 2
}
